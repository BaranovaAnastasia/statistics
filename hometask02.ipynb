{
 "cells": [
  {
   "cell_type": "markdown",
   "metadata": {},
   "source": [
    "### Домашнее задание № 2 по курсу \"Прикладные методы математической статистики\"\n",
    "Баранова Анастасия Андреевна, группа БПИ196\n",
    "\n",
    "Вариант 1"
   ]
  },
  {
   "cell_type": "code",
   "execution_count": 1,
   "metadata": {},
   "outputs": [],
   "source": [
    "import numpy as np"
   ]
  },
  {
   "cell_type": "markdown",
   "metadata": {},
   "source": [
    "#### 1. Рассчитаем 100 псевдослучайных чисел методом серединных квадратов c z1 = 1661."
   ]
  },
  {
   "cell_type": "code",
   "execution_count": 2,
   "metadata": {},
   "outputs": [],
   "source": [
    "# Функция возвращает следующий элемент последовательности, генерируемой методом серединных квадратов\n",
    "def get_next(z):\n",
    "    return (z ** 2) // 100 % 10000 "
   ]
  },
  {
   "cell_type": "code",
   "execution_count": 3,
   "metadata": {},
   "outputs": [],
   "source": [
    "# Функция рассчитывает последовательность длины n методом серединных квадратов c заданным z1\n",
    "def get_sequence(n, z1):\n",
    "    values = np.array([z1])\n",
    "    for i in range(1, n):\n",
    "        values = np.concatenate((values, [get_next(values[i-1])]))\n",
    "    values = values / 10000\n",
    "    return values"
   ]
  },
  {
   "cell_type": "code",
   "execution_count": 4,
   "metadata": {},
   "outputs": [],
   "source": [
    "pseudo_random = get_sequence(100, 1661)"
   ]
  },
  {
   "cell_type": "markdown",
   "metadata": {},
   "source": [
    "#### 2. Приведем первые 10 чисел этой последовательности."
   ]
  },
  {
   "cell_type": "code",
   "execution_count": 5,
   "metadata": {},
   "outputs": [
    {
     "name": "stdout",
     "output_type": "stream",
     "text": [
      "0.1661, 0.7589, 0.5929, 0.153, 0.3409, 0.6212, 0.5889, 0.6803, 0.2808, 0.8848\n"
     ]
    }
   ],
   "source": [
    "print(*pseudo_random[0:10], sep=', ')"
   ]
  },
  {
   "cell_type": "markdown",
   "metadata": {},
   "source": [
    "#### 3. Построим гистограмму с 10 столбцами для полученной последовательности."
   ]
  },
  {
   "cell_type": "code",
   "execution_count": 6,
   "metadata": {},
   "outputs": [],
   "source": [
    "import matplotlib.pyplot as plt\n",
    "import seaborn as sns\n",
    "%matplotlib inline\n",
    "\n",
    "sns.set(rc={'figure.figsize':(12,6)})"
   ]
  },
  {
   "cell_type": "code",
   "execution_count": 7,
   "metadata": {},
   "outputs": [
    {
     "data": {
      "image/png": "[encoded data removed]",
      "text/plain": [
       "<Figure size 864x432 with 1 Axes>"
      ]
     },
     "metadata": {},
     "output_type": "display_data"
    }
   ],
   "source": [
    "sns.histplot(data=pseudo_random, bins=np.linspace(0,1,11))\n",
    "plt.title('Распределение значений в полученной\\n методом серединных квадратов последовательности n=100')\n",
    "plt.show()"
   ]
  },
  {
   "cell_type": "markdown",
   "metadata": {},
   "source": [
    "#### 4. Проверим гипотезу о том, что последовательность имеет распределение R(0, 1) критерием хи-квадрат, разбив интервал [0; 1) на десять равных интервалов."
   ]
  },
  {
   "cell_type": "code",
   "execution_count": 8,
   "metadata": {},
   "outputs": [],
   "source": [
    "from scipy.stats import uniform\n",
    "from scipy.stats import chi2\n",
    "\n",
    "import pandas as pd"
   ]
  },
  {
   "cell_type": "markdown",
   "metadata": {},
   "source": [
    "Разобьем интервал [0; 1) на 10 равных интервалов и посчитаем сколько элементов последовательности попадает в каждый из них."
   ]
  },
  {
   "cell_type": "code",
   "execution_count": 9,
   "metadata": {},
   "outputs": [
    {
     "data": {
      "text/html": [
       "<div>\n",
       "<style scoped>\n",
       "    .dataframe tbody tr th:only-of-type {\n",
       "        vertical-align: middle;\n",
       "    }\n",
       "\n",
       "    .dataframe tbody tr th {\n",
       "        vertical-align: top;\n",
       "    }\n",
       "\n",
       "    .dataframe thead th {\n",
       "        text-align: right;\n",
       "    }\n",
       "</style>\n",
       "<table border=\"1\" class=\"dataframe\">\n",
       "  <thead>\n",
       "    <tr style=\"text-align: right;\">\n",
       "      <th></th>\n",
       "      <th>0.0 - 0.1</th>\n",
       "      <th>0.1 - 0.2</th>\n",
       "      <th>0.2 - 0.300</th>\n",
       "      <th>0.300 - 0.4</th>\n",
       "      <th>0.4 - 0.5</th>\n",
       "      <th>0.5 - 0.600</th>\n",
       "      <th>0.600 - 0.700</th>\n",
       "      <th>0.700 - 0.8</th>\n",
       "      <th>0.8 - 0.9</th>\n",
       "      <th>0.9 - 1.0</th>\n",
       "    </tr>\n",
       "  </thead>\n",
       "  <tbody>\n",
       "    <tr>\n",
       "      <th>Наблюдаемая частота</th>\n",
       "      <td>7</td>\n",
       "      <td>11</td>\n",
       "      <td>11</td>\n",
       "      <td>14</td>\n",
       "      <td>5</td>\n",
       "      <td>10</td>\n",
       "      <td>12</td>\n",
       "      <td>8</td>\n",
       "      <td>14</td>\n",
       "      <td>8</td>\n",
       "    </tr>\n",
       "  </tbody>\n",
       "</table>\n",
       "</div>"
      ],
      "text/plain": [
       "                     0.0 - 0.1  0.1 - 0.2  0.2 - 0.300  0.300 - 0.4  \\\n",
       "Наблюдаемая частота          7         11           11           14   \n",
       "\n",
       "                     0.4 - 0.5  0.5 - 0.600  0.600 - 0.700  0.700 - 0.8  \\\n",
       "Наблюдаемая частота          5           10             12            8   \n",
       "\n",
       "                     0.8 - 0.9  0.9 - 1.0  \n",
       "Наблюдаемая частота         14          8  "
      ]
     },
     "execution_count": 9,
     "metadata": {},
     "output_type": "execute_result"
    }
   ],
   "source": [
    "freqs = np.histogram(pseudo_random, bins=np.linspace(0,1,11))\n",
    "\n",
    "a = np.vectorize(lambda i: str(i)[0:5] + ' - ')(freqs[1][0:10])\n",
    "columns = np.vectorize(lambda i: a[i] + str(freqs[1][i + 1])[0:5])(range(10))\n",
    "\n",
    "table = pd.DataFrame(data=[freqs[0]],\n",
    "                     columns=columns,\n",
    "                     index=['Наблюдаемая частота'])\n",
    "table"
   ]
  },
  {
   "cell_type": "markdown",
   "metadata": {},
   "source": [
    "Вычислим предполагаемую вероятность попадения значения последоваетльности в каждый из интервалов"
   ]
  },
  {
   "cell_type": "code",
   "execution_count": 10,
   "metadata": {},
   "outputs": [
    {
     "data": {
      "text/plain": [
       "array([0.1, 0.1, 0.1, 0.1, 0.1, 0.1, 0.1, 0.1, 0.1, 0.1])"
      ]
     },
     "execution_count": 10,
     "metadata": {},
     "output_type": "execute_result"
    }
   ],
   "source": [
    "p = uniform().cdf(freqs[1][1:]) - uniform().cdf(freqs[1][0:10])\n",
    "p"
   ]
  },
  {
   "cell_type": "markdown",
   "metadata": {},
   "source": [
    "Найдем ожидаемую частоту паподения элементов в каждый из промежутков."
   ]
  },
  {
   "cell_type": "code",
   "execution_count": 11,
   "metadata": {},
   "outputs": [
    {
     "data": {
      "text/plain": [
       "array([10., 10., 10., 10., 10., 10., 10., 10., 10., 10.])"
      ]
     },
     "execution_count": 11,
     "metadata": {},
     "output_type": "execute_result"
    }
   ],
   "source": [
    "expected = p * pseudo_random.shape[0]\n",
    "expected"
   ]
  },
  {
   "cell_type": "markdown",
   "metadata": {},
   "source": [
    "Приведем итоговую таблицу со всеми рассчитаными данными, чтобы наглядно представить разницу между основной гипотезой и данными."
   ]
  },
  {
   "cell_type": "code",
   "execution_count": 12,
   "metadata": {},
   "outputs": [
    {
     "data": {
      "text/html": [
       "<div>\n",
       "<style scoped>\n",
       "    .dataframe tbody tr th:only-of-type {\n",
       "        vertical-align: middle;\n",
       "    }\n",
       "\n",
       "    .dataframe tbody tr th {\n",
       "        vertical-align: top;\n",
       "    }\n",
       "\n",
       "    .dataframe thead th {\n",
       "        text-align: right;\n",
       "    }\n",
       "</style>\n",
       "<table border=\"1\" class=\"dataframe\">\n",
       "  <thead>\n",
       "    <tr style=\"text-align: right;\">\n",
       "      <th></th>\n",
       "      <th>0.0 - 0.1</th>\n",
       "      <th>0.1 - 0.2</th>\n",
       "      <th>0.2 - 0.300</th>\n",
       "      <th>0.300 - 0.4</th>\n",
       "      <th>0.4 - 0.5</th>\n",
       "      <th>0.5 - 0.600</th>\n",
       "      <th>0.600 - 0.700</th>\n",
       "      <th>0.700 - 0.8</th>\n",
       "      <th>0.8 - 0.9</th>\n",
       "      <th>0.9 - 1.0</th>\n",
       "    </tr>\n",
       "  </thead>\n",
       "  <tbody>\n",
       "    <tr>\n",
       "      <th>Предполагаемая вероятность</th>\n",
       "      <td>0.1</td>\n",
       "      <td>0.1</td>\n",
       "      <td>0.1</td>\n",
       "      <td>0.1</td>\n",
       "      <td>0.1</td>\n",
       "      <td>0.1</td>\n",
       "      <td>0.1</td>\n",
       "      <td>0.1</td>\n",
       "      <td>0.1</td>\n",
       "      <td>0.1</td>\n",
       "    </tr>\n",
       "    <tr>\n",
       "      <th>Ожидаемая частота</th>\n",
       "      <td>10.0</td>\n",
       "      <td>10.0</td>\n",
       "      <td>10.0</td>\n",
       "      <td>10.0</td>\n",
       "      <td>10.0</td>\n",
       "      <td>10.0</td>\n",
       "      <td>10.0</td>\n",
       "      <td>10.0</td>\n",
       "      <td>10.0</td>\n",
       "      <td>10.0</td>\n",
       "    </tr>\n",
       "    <tr>\n",
       "      <th>Наблюдаемая частота</th>\n",
       "      <td>7.0</td>\n",
       "      <td>11.0</td>\n",
       "      <td>11.0</td>\n",
       "      <td>14.0</td>\n",
       "      <td>5.0</td>\n",
       "      <td>10.0</td>\n",
       "      <td>12.0</td>\n",
       "      <td>8.0</td>\n",
       "      <td>14.0</td>\n",
       "      <td>8.0</td>\n",
       "    </tr>\n",
       "  </tbody>\n",
       "</table>\n",
       "</div>"
      ],
      "text/plain": [
       "                            0.0 - 0.1  0.1 - 0.2  0.2 - 0.300  0.300 - 0.4  \\\n",
       "Предполагаемая вероятность        0.1        0.1          0.1          0.1   \n",
       "Ожидаемая частота                10.0       10.0         10.0         10.0   \n",
       "Наблюдаемая частота               7.0       11.0         11.0         14.0   \n",
       "\n",
       "                            0.4 - 0.5  0.5 - 0.600  0.600 - 0.700  \\\n",
       "Предполагаемая вероятность        0.1          0.1            0.1   \n",
       "Ожидаемая частота                10.0         10.0           10.0   \n",
       "Наблюдаемая частота               5.0         10.0           12.0   \n",
       "\n",
       "                            0.700 - 0.8  0.8 - 0.9  0.9 - 1.0  \n",
       "Предполагаемая вероятность          0.1        0.1        0.1  \n",
       "Ожидаемая частота                  10.0       10.0       10.0  \n",
       "Наблюдаемая частота                 8.0       14.0        8.0  "
      ]
     },
     "execution_count": 12,
     "metadata": {},
     "output_type": "execute_result"
    }
   ],
   "source": [
    "table = pd.DataFrame(data=[p, expected, freqs[0]],\n",
    "                     columns=columns,\n",
    "                     index=['Предполагаемая вероятность', 'Ожидаемая частота', 'Наблюдаемая частота'])\n",
    "table"
   ]
  },
  {
   "cell_type": "markdown",
   "metadata": {},
   "source": [
    "Также для наглядности представим различия на графике частот."
   ]
  },
  {
   "cell_type": "code",
   "execution_count": 13,
   "metadata": {},
   "outputs": [
    {
     "data": {
      "image/png": "[encoded data removed]",
      "text/plain": [
       "<Figure size 864x432 with 1 Axes>"
      ]
     },
     "metadata": {},
     "output_type": "display_data"
    }
   ],
   "source": [
    "fig = plt.figure()\n",
    "ax = fig.add_subplot(111)\n",
    "ind = np.arange(10)\n",
    "width = 0.35  \n",
    "\n",
    "rects1 = ax.bar(ind, expected, width, color='seagreen')\n",
    "rects2 = ax.bar(ind+width, freqs[0], width, color='royalblue')\n",
    "\n",
    "ax.set_xticks(ind + width / 2)\n",
    "ax.set_xticklabels(columns)\n",
    "plt.xticks(rotation=-45)\n",
    "\n",
    "ax.legend( (rects1[0], rects2[0]), ('Ожидаемая частота', 'Наблюдаемая частота') )\n",
    "\n",
    "plt.show()"
   ]
  },
  {
   "cell_type": "markdown",
   "metadata": {},
   "source": [
    "Уже на данном этапе можно сказать, что расхождения с равномерным распределением хоть и заметны, но не столь значительны. Сделаем проверку, используя критерий согласия хи-квадрат (критерий согласия Пирсона)."
   ]
  },
  {
   "cell_type": "markdown",
   "metadata": {},
   "source": [
    "Статистика $\\chi^2 = \\sum_{j=1}^{k}\\frac{(O_j - E_j)^2}{E_j}$ имеет распределение хи-квадрат с k-1 степенями свободы. Здесь $O_j$ - наблюдаемые частоты, $E_j = np_j$ - ожидаемые частоты.\n",
    "\n",
    "Отвергнем гипотезу, о том, что последовательность имеет распределение R(0, 1), если $\\chi^2 > \\chi^2_{k-1, \\alpha}$ \n",
    "где $\\alpha$ — уровень значимости. Используем уровень значимости 5%, то есть $\\alpha = 0.05$."
   ]
  },
  {
   "cell_type": "code",
   "execution_count": 14,
   "metadata": {},
   "outputs": [
    {
     "data": {
      "text/plain": [
       "8.0"
      ]
     },
     "execution_count": 14,
     "metadata": {},
     "output_type": "execute_result"
    }
   ],
   "source": [
    "chi = ((freqs[0] - expected) ** 2 / expected).sum()\n",
    "chi"
   ]
  },
  {
   "cell_type": "code",
   "execution_count": 15,
   "metadata": {},
   "outputs": [
    {
     "data": {
      "text/plain": [
       "16.918977604620448"
      ]
     },
     "execution_count": 15,
     "metadata": {},
     "output_type": "execute_result"
    }
   ],
   "source": [
    "alpha = 0.05\n",
    "chi_alpha = chi2.ppf(1-alpha, 9)\n",
    "chi_alpha"
   ]
  },
  {
   "cell_type": "code",
   "execution_count": 16,
   "metadata": {},
   "outputs": [
    {
     "name": "stdout",
     "output_type": "stream",
     "text": [
      "Нет оснований отвергнуть гипотезу\n"
     ]
    }
   ],
   "source": [
    "if(chi < chi_alpha):\n",
    "    print('Нет оснований отвергнуть гипотезу')\n",
    "else:\n",
    "    print('Гипотеза отвергается')"
   ]
  },
  {
   "cell_type": "markdown",
   "metadata": {},
   "source": [
    "#### 5. Повторим шаги 3 и 4 для последовательности длиной в 10000 чисел."
   ]
  },
  {
   "cell_type": "code",
   "execution_count": 17,
   "metadata": {},
   "outputs": [],
   "source": [
    "pseudo_random = get_sequence(10000, 1661)"
   ]
  },
  {
   "cell_type": "markdown",
   "metadata": {},
   "source": [
    "Построим гистограмму с 10 столбцами для полученной последовательности."
   ]
  },
  {
   "cell_type": "code",
   "execution_count": 18,
   "metadata": {},
   "outputs": [
    {
     "data": {
      "image/png": "[encoded data removed]",
      "text/plain": [
       "<Figure size 864x432 with 1 Axes>"
      ]
     },
     "metadata": {},
     "output_type": "display_data"
    }
   ],
   "source": [
    "sns.histplot(data=pseudo_random, bins=np.linspace(0,1,11))\n",
    "plt.title('Распределение значений в полученной\\n методом серединных квадратов последовательности n=10000')\n",
    "plt.show()"
   ]
  },
  {
   "cell_type": "markdown",
   "metadata": {},
   "source": [
    "Проверим гипотезу о том, что последовательность имеет распределение R(0, 1) критерием хи-квадрат, разбив интервал [0; 1) на десять равных интервалов."
   ]
  },
  {
   "cell_type": "markdown",
   "metadata": {},
   "source": [
    "Разобьем интервал [0; 1) на 10 равных интервалов и посчитаем сколько элементов последовательности попадает в каждый из них."
   ]
  },
  {
   "cell_type": "code",
   "execution_count": 19,
   "metadata": {},
   "outputs": [],
   "source": [
    "freqs = np.histogram(pseudo_random, bins=np.linspace(0,1,11))"
   ]
  },
  {
   "cell_type": "markdown",
   "metadata": {},
   "source": [
    "Вычислим предполагаемую вероятность попадения значения последоваетльности в каждый из интервалов."
   ]
  },
  {
   "cell_type": "code",
   "execution_count": 20,
   "metadata": {},
   "outputs": [],
   "source": [
    "p = uniform().cdf(freqs[1][1:]) - uniform().cdf(freqs[1][0:10])"
   ]
  },
  {
   "cell_type": "markdown",
   "metadata": {},
   "source": [
    "Найдем ожидаемую частоту попадения элементов в каждый из интервалов."
   ]
  },
  {
   "cell_type": "code",
   "execution_count": 21,
   "metadata": {},
   "outputs": [],
   "source": [
    "expected = p * pseudo_random.shape[0]"
   ]
  },
  {
   "cell_type": "markdown",
   "metadata": {},
   "source": [
    "Приведем итоговую таблицу со всеми рассчитаными данными, чтобы наглядно представить разницу между основной гипотезой и данными."
   ]
  },
  {
   "cell_type": "code",
   "execution_count": 22,
   "metadata": {},
   "outputs": [
    {
     "data": {
      "text/html": [
       "<div>\n",
       "<style scoped>\n",
       "    .dataframe tbody tr th:only-of-type {\n",
       "        vertical-align: middle;\n",
       "    }\n",
       "\n",
       "    .dataframe tbody tr th {\n",
       "        vertical-align: top;\n",
       "    }\n",
       "\n",
       "    .dataframe thead th {\n",
       "        text-align: right;\n",
       "    }\n",
       "</style>\n",
       "<table border=\"1\" class=\"dataframe\">\n",
       "  <thead>\n",
       "    <tr style=\"text-align: right;\">\n",
       "      <th></th>\n",
       "      <th>0.0 - 0.1</th>\n",
       "      <th>0.1 - 0.2</th>\n",
       "      <th>0.2 - 0.300</th>\n",
       "      <th>0.300 - 0.4</th>\n",
       "      <th>0.4 - 0.5</th>\n",
       "      <th>0.5 - 0.600</th>\n",
       "      <th>0.600 - 0.700</th>\n",
       "      <th>0.700 - 0.8</th>\n",
       "      <th>0.8 - 0.9</th>\n",
       "      <th>0.9 - 1.0</th>\n",
       "    </tr>\n",
       "  </thead>\n",
       "  <tbody>\n",
       "    <tr>\n",
       "      <th>Предполагаемая вероятность</th>\n",
       "      <td>0.1</td>\n",
       "      <td>0.1</td>\n",
       "      <td>0.1</td>\n",
       "      <td>0.1</td>\n",
       "      <td>0.1</td>\n",
       "      <td>0.1</td>\n",
       "      <td>0.1</td>\n",
       "      <td>0.1</td>\n",
       "      <td>0.1</td>\n",
       "      <td>0.1</td>\n",
       "    </tr>\n",
       "    <tr>\n",
       "      <th>Ожидаемая частота</th>\n",
       "      <td>1000.0</td>\n",
       "      <td>1000.0</td>\n",
       "      <td>1000.0</td>\n",
       "      <td>1000.0</td>\n",
       "      <td>1000.0</td>\n",
       "      <td>1000.0</td>\n",
       "      <td>1000.0</td>\n",
       "      <td>1000.0</td>\n",
       "      <td>1000.0</td>\n",
       "      <td>1000.0</td>\n",
       "    </tr>\n",
       "    <tr>\n",
       "      <th>Наблюдаемая частота</th>\n",
       "      <td>7.0</td>\n",
       "      <td>11.0</td>\n",
       "      <td>2487.0</td>\n",
       "      <td>14.0</td>\n",
       "      <td>2480.0</td>\n",
       "      <td>10.0</td>\n",
       "      <td>2486.0</td>\n",
       "      <td>8.0</td>\n",
       "      <td>2489.0</td>\n",
       "      <td>8.0</td>\n",
       "    </tr>\n",
       "  </tbody>\n",
       "</table>\n",
       "</div>"
      ],
      "text/plain": [
       "                            0.0 - 0.1  0.1 - 0.2  0.2 - 0.300  0.300 - 0.4  \\\n",
       "Предполагаемая вероятность        0.1        0.1          0.1          0.1   \n",
       "Ожидаемая частота              1000.0     1000.0       1000.0       1000.0   \n",
       "Наблюдаемая частота               7.0       11.0       2487.0         14.0   \n",
       "\n",
       "                            0.4 - 0.5  0.5 - 0.600  0.600 - 0.700  \\\n",
       "Предполагаемая вероятность        0.1          0.1            0.1   \n",
       "Ожидаемая частота              1000.0       1000.0         1000.0   \n",
       "Наблюдаемая частота            2480.0         10.0         2486.0   \n",
       "\n",
       "                            0.700 - 0.8  0.8 - 0.9  0.9 - 1.0  \n",
       "Предполагаемая вероятность          0.1        0.1        0.1  \n",
       "Ожидаемая частота                1000.0     1000.0     1000.0  \n",
       "Наблюдаемая частота                 8.0     2489.0        8.0  "
      ]
     },
     "execution_count": 22,
     "metadata": {},
     "output_type": "execute_result"
    }
   ],
   "source": [
    "a = np.vectorize(lambda i: str(i)[0:5] + ' - ')(freqs[1][0:10])\n",
    "columns = np.vectorize(lambda i: a[i] + str(freqs[1][i + 1])[0:5])(range(10))\n",
    "table = pd.DataFrame(data=[p, expected, freqs[0]],\n",
    "                     columns=columns,\n",
    "                     index=['Предполагаемая вероятность', 'Ожидаемая частота', 'Наблюдаемая частота'])\n",
    "table"
   ]
  },
  {
   "cell_type": "markdown",
   "metadata": {},
   "source": [
    "Также для наглядности представим различия на графике частот."
   ]
  },
  {
   "cell_type": "code",
   "execution_count": 23,
   "metadata": {
    "scrolled": false
   },
   "outputs": [
    {
     "data": {
      "image/png": "[encoded data removed]",
      "text/plain": [
       "<Figure size 864x432 with 1 Axes>"
      ]
     },
     "metadata": {},
     "output_type": "display_data"
    }
   ],
   "source": [
    "fig = plt.figure()\n",
    "ax = fig.add_subplot(111)\n",
    "ind = np.arange(10)\n",
    "width = 0.35  \n",
    "\n",
    "rects1 = ax.bar(ind, expected, width, color='seagreen')\n",
    "rects2 = ax.bar(ind+width, freqs[0], width, color='royalblue')\n",
    "\n",
    "ax.set_xticks(ind + width / 2)\n",
    "ax.set_xticklabels(columns)\n",
    "plt.xticks(rotation=-45)\n",
    "\n",
    "ax.legend( (rects1[0], rects2[0]), ('Ожидаемая частота', 'Наблюдаемая частота') )\n",
    "\n",
    "plt.show()"
   ]
  },
  {
   "cell_type": "markdown",
   "metadata": {},
   "source": [
    "Здесь различия уже гораздо более ярко выражены. Сделаем проверку, используя критерий согласия хи-квадрат (критерий согласия Пирсона)."
   ]
  },
  {
   "cell_type": "markdown",
   "metadata": {},
   "source": [
    "Случайная величина $\\chi^2 = \\sum_{j=1}^{k}\\frac{(O_j - E_j)^2}{E_j}$ имеет распределение хи-квадрат с k-1 степенями свободы. Здесь $O_j$ - наблюдаемые частоты, $E_j = np_j$ - ожидаемые частоты.\n",
    "\n",
    "Отвергнем гипотезу, о том, что последовательность имеет распределение R(0, 1), если $\\chi^2 > \\chi^2_{k-1, \\alpha}$ \n",
    "где $\\alpha$ — уровень значимости. Используем уровень значимости 5%, то есть $\\alpha = 0.05$."
   ]
  },
  {
   "cell_type": "code",
   "execution_count": 24,
   "metadata": {},
   "outputs": [
    {
     "data": {
      "text/plain": [
       "14711.480000000001"
      ]
     },
     "execution_count": 24,
     "metadata": {},
     "output_type": "execute_result"
    }
   ],
   "source": [
    "chi = ((freqs[0] - expected) ** 2 / expected).sum()\n",
    "chi"
   ]
  },
  {
   "cell_type": "code",
   "execution_count": 25,
   "metadata": {},
   "outputs": [
    {
     "data": {
      "text/plain": [
       "16.918977604620448"
      ]
     },
     "execution_count": 25,
     "metadata": {},
     "output_type": "execute_result"
    }
   ],
   "source": [
    "alpha = 0.05\n",
    "chi_alpha = chi2.ppf(1-alpha, 9)\n",
    "chi_alpha"
   ]
  },
  {
   "cell_type": "code",
   "execution_count": 26,
   "metadata": {},
   "outputs": [
    {
     "name": "stdout",
     "output_type": "stream",
     "text": [
      "Гипотеза отвергается\n"
     ]
    }
   ],
   "source": [
    "if(chi < chi_alpha):\n",
    "    print('Нет оснований отвергнуть гипотезу')\n",
    "else:\n",
    "    print('Гипотеза отвергается')"
   ]
  },
  {
   "cell_type": "markdown",
   "metadata": {},
   "source": [
    "#### 6. Используем тест перестановок и проверим этим тестом первые 9999 чисел вашей последовательности, разбив их на тройки."
   ]
  },
  {
   "cell_type": "markdown",
   "metadata": {},
   "source": [
    "Разделим первые 9999 чисел последовательности на тройки."
   ]
  },
  {
   "cell_type": "code",
   "execution_count": 27,
   "metadata": {},
   "outputs": [],
   "source": [
    "triplets = np.array_split(pseudo_random[:9999], 3333)"
   ]
  },
  {
   "cell_type": "markdown",
   "metadata": {},
   "source": [
    "Построим перестановки по каждой из полученных троек."
   ]
  },
  {
   "cell_type": "code",
   "execution_count": 28,
   "metadata": {},
   "outputs": [],
   "source": [
    "# Для данного элемента тройки возвращет соответствующее ему число в перестановке\n",
    "def get_val(arr, i):\n",
    "    return 1 if arr[i] == arr.min() else 3 if arr[i] == arr.max() else 2"
   ]
  },
  {
   "cell_type": "code",
   "execution_count": 29,
   "metadata": {
    "scrolled": false
   },
   "outputs": [],
   "source": [
    "# Для данной тройки возвращет соответствующую ей перестановку\n",
    "def get_permutation(arr):\n",
    "    return [get_val(arr, 0), get_val(arr, 1), get_val(arr, 2)]"
   ]
  },
  {
   "cell_type": "code",
   "execution_count": 30,
   "metadata": {},
   "outputs": [],
   "source": [
    "permutations = np.apply_along_axis(func1d=lambda arr: get_permutation(arr), axis=1, arr=triplets)"
   ]
  },
  {
   "cell_type": "markdown",
   "metadata": {},
   "source": [
    "Рассчитаем частоту каждой из шести перестановок в тестируемой последовательности."
   ]
  },
  {
   "cell_type": "code",
   "execution_count": 31,
   "metadata": {},
   "outputs": [],
   "source": [
    "unique, count = np.unique(permutations, return_counts=True, axis=0)"
   ]
  },
  {
   "cell_type": "markdown",
   "metadata": {},
   "source": [
    "Применим критерий согласия хи-квадрат для проверки гипотезы о равновероятности этих перестановок."
   ]
  },
  {
   "cell_type": "code",
   "execution_count": 32,
   "metadata": {},
   "outputs": [],
   "source": [
    "expected = [1/6 * count.sum()] * 6"
   ]
  },
  {
   "cell_type": "code",
   "execution_count": 33,
   "metadata": {},
   "outputs": [
    {
     "data": {
      "text/html": [
       "<div>\n",
       "<style scoped>\n",
       "    .dataframe tbody tr th:only-of-type {\n",
       "        vertical-align: middle;\n",
       "    }\n",
       "\n",
       "    .dataframe tbody tr th {\n",
       "        vertical-align: top;\n",
       "    }\n",
       "\n",
       "    .dataframe thead th {\n",
       "        text-align: right;\n",
       "    }\n",
       "</style>\n",
       "<table border=\"1\" class=\"dataframe\">\n",
       "  <thead>\n",
       "    <tr style=\"text-align: right;\">\n",
       "      <th></th>\n",
       "      <th>(1, 2, 3)</th>\n",
       "      <th>(1, 3, 2)</th>\n",
       "      <th>(2, 1, 3)</th>\n",
       "      <th>(2, 3, 1)</th>\n",
       "      <th>(3, 1, 2)</th>\n",
       "      <th>(3, 2, 1)</th>\n",
       "    </tr>\n",
       "  </thead>\n",
       "  <tbody>\n",
       "    <tr>\n",
       "      <th>Предполагаемая вероятность</th>\n",
       "      <td>0.166667</td>\n",
       "      <td>0.166667</td>\n",
       "      <td>0.166667</td>\n",
       "      <td>0.166667</td>\n",
       "      <td>0.166667</td>\n",
       "      <td>0.166667</td>\n",
       "    </tr>\n",
       "    <tr>\n",
       "      <th>Ожидаемая частота</th>\n",
       "      <td>555.500000</td>\n",
       "      <td>555.500000</td>\n",
       "      <td>555.500000</td>\n",
       "      <td>555.500000</td>\n",
       "      <td>555.500000</td>\n",
       "      <td>555.500000</td>\n",
       "    </tr>\n",
       "    <tr>\n",
       "      <th>Наблюдаемая частота</th>\n",
       "      <td>833.000000</td>\n",
       "      <td>832.000000</td>\n",
       "      <td>6.000000</td>\n",
       "      <td>3.000000</td>\n",
       "      <td>829.000000</td>\n",
       "      <td>830.000000</td>\n",
       "    </tr>\n",
       "  </tbody>\n",
       "</table>\n",
       "</div>"
      ],
      "text/plain": [
       "                             (1, 2, 3)   (1, 3, 2)   (2, 1, 3)   (2, 3, 1)  \\\n",
       "Предполагаемая вероятность    0.166667    0.166667    0.166667    0.166667   \n",
       "Ожидаемая частота           555.500000  555.500000  555.500000  555.500000   \n",
       "Наблюдаемая частота         833.000000  832.000000    6.000000    3.000000   \n",
       "\n",
       "                             (3, 1, 2)   (3, 2, 1)  \n",
       "Предполагаемая вероятность    0.166667    0.166667  \n",
       "Ожидаемая частота           555.500000  555.500000  \n",
       "Наблюдаемая частота         829.000000  830.000000  "
      ]
     },
     "execution_count": 33,
     "metadata": {},
     "output_type": "execute_result"
    }
   ],
   "source": [
    "columns=np.apply_along_axis(lambda i: '(' + ', '.join(map(str, i)) + ')', 1, unique)\n",
    "\n",
    "table = pd.DataFrame(data=[[1/6] * 6, expected, count],\n",
    "                     columns=columns,\n",
    "                     index=['Предполагаемая вероятность', 'Ожидаемая частота', 'Наблюдаемая частота'])\n",
    "\n",
    "table"
   ]
  },
  {
   "cell_type": "markdown",
   "metadata": {},
   "source": [
    "Также для наглядности представим различия на графике частот."
   ]
  },
  {
   "cell_type": "code",
   "execution_count": 34,
   "metadata": {
    "scrolled": false
   },
   "outputs": [
    {
     "data": {
      "image/png": "[encoded data removed]",
      "text/plain": [
       "<Figure size 864x432 with 1 Axes>"
      ]
     },
     "metadata": {},
     "output_type": "display_data"
    }
   ],
   "source": [
    "fig = plt.figure()\n",
    "ax = fig.add_subplot(111)\n",
    "ind = np.arange(6)\n",
    "width = 0.35  \n",
    "\n",
    "rects1 = ax.bar(ind, expected, width, color='seagreen')\n",
    "rects2 = ax.bar(ind+width, count, width, color='royalblue')\n",
    "\n",
    "ax.set_xticks(ind + width / 2)\n",
    "ax.set_xticklabels(columns)\n",
    "\n",
    "ax.legend( (rects1[0], rects2[0]), ('Ожидаемая частота', 'Наблюдаемая частота') )\n",
    "\n",
    "plt.show()"
   ]
  },
  {
   "cell_type": "code",
   "execution_count": 35,
   "metadata": {},
   "outputs": [
    {
     "data": {
      "text/plain": [
       "1639.6354635463545"
      ]
     },
     "execution_count": 35,
     "metadata": {},
     "output_type": "execute_result"
    }
   ],
   "source": [
    "chi = ((count - expected) ** 2 / expected).sum()\n",
    "chi"
   ]
  },
  {
   "cell_type": "code",
   "execution_count": 36,
   "metadata": {},
   "outputs": [
    {
     "data": {
      "text/plain": [
       "11.070497693516351"
      ]
     },
     "execution_count": 36,
     "metadata": {},
     "output_type": "execute_result"
    }
   ],
   "source": [
    "alpha = 0.05\n",
    "chi_alpha = chi2.ppf(1-alpha, 5)\n",
    "chi_alpha"
   ]
  },
  {
   "cell_type": "code",
   "execution_count": 37,
   "metadata": {},
   "outputs": [
    {
     "name": "stdout",
     "output_type": "stream",
     "text": [
      "Гипотеза отвергается\n"
     ]
    }
   ],
   "source": [
    "if(chi < chi_alpha):\n",
    "    print('Нет оснований отвергнуть гипотезу')\n",
    "else:\n",
    "    print('Гипотеза отвергается')"
   ]
  }
 ],
 "metadata": {
  "kernelspec": {
   "display_name": "Python 3",
   "language": "python",
   "name": "python3"
  },
  "language_info": {
   "codemirror_mode": {
    "name": "ipython",
    "version": 3
   },
   "file_extension": ".py",
   "mimetype": "text/x-python",
   "name": "python",
   "nbconvert_exporter": "python",
   "pygments_lexer": "ipython3",
   "version": "3.8.5"
  }
 },
 "nbformat": 4,
 "nbformat_minor": 4
}
